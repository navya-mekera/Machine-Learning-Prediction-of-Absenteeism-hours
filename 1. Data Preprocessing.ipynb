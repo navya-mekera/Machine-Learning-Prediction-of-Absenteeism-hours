{
 "cells": [
  {
   "cell_type": "markdown",
   "metadata": {},
   "source": [
    "## Data Cleaning & Preprocessing:\n",
    "\n",
    "### Cleaning:\n",
    "\n",
    "1.  Removed Junk values from Age column. The Age column had junk values like “R”, which was removed and replaced with 0 instead.\n",
    "2.  Removed rows from data set where age is 0\n",
    "3.  Replaced null values with zero\n",
    "4.  Type-casted variables to type “category” form int64\n",
    "\n",
    "\n",
    "\n",
    "### Preprocessing:\n",
    "\n",
    "#### Added new column named “followUp_req”\n",
    "We added a new feature that we created in the data set. We observed that, the absenteesim hours had been repeated several times for the same ID, that is the same employee, more often than not for the same month, consecutively. This made us think that, certain reasons for absence had an impact on this repetitive nature. We confirmed this by closely inspecting the data set description, and seeing that the reasons for absence had been bifurcated into two subsets – one requiring follow ups and another set of reasons that do not require follow up. We wanted to capture this nature of the data within the data set, and feed this information to the machine learning models. Hence we created this new feature “followUp_req”.\n",
    "\n",
    "This new column has binary categorical values, depending on the “Reason for Absence” column. In this feature, (followUp_req), the value is 1, if the corresponding reason for absence for this row belongs to categories 1-21, for which a follow up appointment with medical professionals is necessary. On the other hand, if the Reason for absence for the corresponding column falls between categories 22-28, that is, the conditions that do not require a follow up appointment, then the column followUp_req is 0.\n",
    "\n",
    "#### Added categorical target column \n",
    "We added a new target column that was categorical in nature. We divided the original target column values into different groups, based on the number of hours of absenteeism for that corresponding row. The different buckets and their corresponding groups are given in the table below. \n",
    " \n",
    "-  Absenteeism time in hours --- Group\n",
    "    - 0 Hours --- Group 0\n",
    "    - 1 Hour --- Group 1\n",
    "    - 2 Hours --- Group 2\n",
    "    - 3 Hours --- Group 3\n",
    "    - 4-7 Hours --- Group 4\n",
    "    - 8 Hours --- Group 5\n",
    "    - Above 9 Hours --- Group 6\n",
    "\n",
    "A new dataset was created with only the categorical target column. In our analysis, we used both continuous and categorical target columns separately in two different datasets.\n",
    "\n",
    "#### Scaling and Feature Reduction\n",
    "Depending on the requirement machine learning model under consideration, we scaled the data in order to normalize all the values, conducted principal component analysis and linear discriminant analysis to reduce the number of features. We did not perform scaling and feature reduction for all the machine learning models. We only performed these for machine learning models that required this kind of preprocessing to be done prior to the application of the algorithm on to the data set. \n"
   ]
  },
  {
   "cell_type": "code",
   "execution_count": null,
   "metadata": {},
   "outputs": [],
   "source": [
    "import pandas as pd\n",
    "import numpy as np\n",
    "import random\n",
    "import pylab as pl\n",
    "\n",
    "# for plotting\n",
    "import matplotlib.pyplot as plt\n",
    "import seaborn as sns\n",
    "import scipy.stats as stats\n",
    "\n",
    "# scikit learning package\n",
    "from sklearn.model_selection import train_test_split,cross_val_score, cross_val_predict,KFold\n",
    "from sklearn.ensemble import RandomForestClassifier\n",
    "from sklearn.metrics import confusion_matrix,accuracy_score,mean_absolute_error,mean_squared_error,r2_score, make_scorer,classification_report,roc_curve, auc\n",
    "from sklearn.preprocessing import LabelEncoder,MinMaxScaler, StandardScaler,OneHotEncoder,scale\n",
    "from sklearn.naive_bayes import GaussianNB, BernoulliNB, MultinomialNB\n",
    "from sklearn.decomposition import PCA,FactorAnalysis\n",
    "from sklearn.linear_model import LinearRegression\n",
    "from sklearn.svm import SVC\n",
    "from sklearn import svm\n",
    "from sklearn import metrics\n",
    "from scipy.stats.mstats import mquantiles\n",
    "from xgboost import XGBClassifier\n",
    "from sklearn.model_selection import StratifiedKFold,GridSearchCV\n",
    "from sklearn.linear_model import LogisticRegressionCV\n",
    "from sklearn.linear_model import LogisticRegression\n",
    "from sklearn import tree\n",
    "from sklearn.tree import DecisionTreeClassifier, DecisionTreeRegressor\n",
    "from sklearn.multiclass import OneVsRestClassifier\n",
    "from sklearn.feature_selection import SelectFromModel\n",
    "from sklearn.discriminant_analysis import LinearDiscriminantAnalysis\n",
    "from sklearn.preprocessing import scale\n",
    "from collections import Counter\n",
    "from sklearn.ensemble import AdaBoostClassifier, GradientBoostingClassifier, ExtraTreesClassifier, VotingClassifier\n",
    "from sklearn.neural_network import MLPClassifier\n",
    "\n",
    "import warnings\n",
    "warnings.filterwarnings(\"ignore\")"
   ]
  },
  {
   "cell_type": "code",
   "execution_count": 12,
   "metadata": {},
   "outputs": [],
   "source": [
    "# read csv file\n",
    "path = 'Absenteeism_at_work_train.csv'\n",
    "data_530 = pd.read_csv(path, decimal=\",\")"
   ]
  },
  {
   "cell_type": "markdown",
   "metadata": {},
   "source": [
    "## DATA CLEANUP"
   ]
  },
  {
   "cell_type": "code",
   "execution_count": 13,
   "metadata": {
    "scrolled": true
   },
   "outputs": [
    {
     "name": "stdout",
     "output_type": "stream",
     "text": [
      "<class 'pandas.core.frame.DataFrame'>\n",
      "RangeIndex: 666 entries, 0 to 665\n",
      "Data columns (total 21 columns):\n",
      "ID                                 666 non-null int64\n",
      "Reason for absence                 666 non-null int64\n",
      "Month of absence                   666 non-null int64\n",
      "Day of the week                    666 non-null int64\n",
      "Seasons                            666 non-null int64\n",
      "Transportation expense             666 non-null int64\n",
      "Distance from Residence to Work    666 non-null int64\n",
      "Service time                       666 non-null int64\n",
      "Age                                666 non-null object\n",
      "Work load Average/day              666 non-null float64\n",
      "Hit target                         665 non-null float64\n",
      "Disciplinary failure               666 non-null int64\n",
      "Education                          666 non-null int64\n",
      "Son                                666 non-null int64\n",
      "Social drinker                     666 non-null int64\n",
      "Social smoker                      666 non-null int64\n",
      "Pet                                666 non-null int64\n",
      "Weight                             664 non-null float64\n",
      "Height                             666 non-null int64\n",
      "Body mass index                    666 non-null int64\n",
      "Absenteeism time in hours          666 non-null int64\n",
      "dtypes: float64(3), int64(17), object(1)\n",
      "memory usage: 109.3+ KB\n"
     ]
    }
   ],
   "source": [
    "# investigate the data\n",
    "data_530.info()"
   ]
  },
  {
   "cell_type": "code",
   "execution_count": 14,
   "metadata": {},
   "outputs": [
    {
     "data": {
      "text/html": [
       "<div>\n",
       "<style scoped>\n",
       "    .dataframe tbody tr th:only-of-type {\n",
       "        vertical-align: middle;\n",
       "    }\n",
       "\n",
       "    .dataframe tbody tr th {\n",
       "        vertical-align: top;\n",
       "    }\n",
       "\n",
       "    .dataframe thead th {\n",
       "        text-align: right;\n",
       "    }\n",
       "</style>\n",
       "<table border=\"1\" class=\"dataframe\">\n",
       "  <thead>\n",
       "    <tr style=\"text-align: right;\">\n",
       "      <th></th>\n",
       "      <th>ID</th>\n",
       "      <th>Reason for absence</th>\n",
       "      <th>Month of absence</th>\n",
       "      <th>Day of the week</th>\n",
       "      <th>Seasons</th>\n",
       "      <th>Transportation expense</th>\n",
       "      <th>Distance from Residence to Work</th>\n",
       "      <th>Service time</th>\n",
       "      <th>Age</th>\n",
       "      <th>Work load Average/day</th>\n",
       "      <th>...</th>\n",
       "      <th>Disciplinary failure</th>\n",
       "      <th>Education</th>\n",
       "      <th>Son</th>\n",
       "      <th>Social drinker</th>\n",
       "      <th>Social smoker</th>\n",
       "      <th>Pet</th>\n",
       "      <th>Weight</th>\n",
       "      <th>Height</th>\n",
       "      <th>Body mass index</th>\n",
       "      <th>Absenteeism time in hours</th>\n",
       "    </tr>\n",
       "  </thead>\n",
       "  <tbody>\n",
       "    <tr>\n",
       "      <th>0</th>\n",
       "      <td>11</td>\n",
       "      <td>26</td>\n",
       "      <td>7</td>\n",
       "      <td>3</td>\n",
       "      <td>1</td>\n",
       "      <td>289</td>\n",
       "      <td>36</td>\n",
       "      <td>13</td>\n",
       "      <td>33</td>\n",
       "      <td>239.554</td>\n",
       "      <td>...</td>\n",
       "      <td>0</td>\n",
       "      <td>1</td>\n",
       "      <td>2</td>\n",
       "      <td>1</td>\n",
       "      <td>0</td>\n",
       "      <td>1</td>\n",
       "      <td>90.0</td>\n",
       "      <td>172</td>\n",
       "      <td>30</td>\n",
       "      <td>4</td>\n",
       "    </tr>\n",
       "    <tr>\n",
       "      <th>1</th>\n",
       "      <td>36</td>\n",
       "      <td>0</td>\n",
       "      <td>7</td>\n",
       "      <td>3</td>\n",
       "      <td>1</td>\n",
       "      <td>118</td>\n",
       "      <td>13</td>\n",
       "      <td>18</td>\n",
       "      <td>50</td>\n",
       "      <td>239.554</td>\n",
       "      <td>...</td>\n",
       "      <td>1</td>\n",
       "      <td>1</td>\n",
       "      <td>1</td>\n",
       "      <td>1</td>\n",
       "      <td>0</td>\n",
       "      <td>0</td>\n",
       "      <td>98.0</td>\n",
       "      <td>178</td>\n",
       "      <td>31</td>\n",
       "      <td>0</td>\n",
       "    </tr>\n",
       "    <tr>\n",
       "      <th>2</th>\n",
       "      <td>3</td>\n",
       "      <td>23</td>\n",
       "      <td>7</td>\n",
       "      <td>4</td>\n",
       "      <td>1</td>\n",
       "      <td>179</td>\n",
       "      <td>51</td>\n",
       "      <td>18</td>\n",
       "      <td>38</td>\n",
       "      <td>239.554</td>\n",
       "      <td>...</td>\n",
       "      <td>0</td>\n",
       "      <td>1</td>\n",
       "      <td>0</td>\n",
       "      <td>1</td>\n",
       "      <td>0</td>\n",
       "      <td>0</td>\n",
       "      <td>89.0</td>\n",
       "      <td>170</td>\n",
       "      <td>31</td>\n",
       "      <td>2</td>\n",
       "    </tr>\n",
       "    <tr>\n",
       "      <th>3</th>\n",
       "      <td>7</td>\n",
       "      <td>7</td>\n",
       "      <td>7</td>\n",
       "      <td>5</td>\n",
       "      <td>1</td>\n",
       "      <td>279</td>\n",
       "      <td>5</td>\n",
       "      <td>14</td>\n",
       "      <td>39</td>\n",
       "      <td>239.554</td>\n",
       "      <td>...</td>\n",
       "      <td>0</td>\n",
       "      <td>1</td>\n",
       "      <td>2</td>\n",
       "      <td>1</td>\n",
       "      <td>1</td>\n",
       "      <td>0</td>\n",
       "      <td>68.0</td>\n",
       "      <td>168</td>\n",
       "      <td>24</td>\n",
       "      <td>4</td>\n",
       "    </tr>\n",
       "    <tr>\n",
       "      <th>4</th>\n",
       "      <td>11</td>\n",
       "      <td>23</td>\n",
       "      <td>7</td>\n",
       "      <td>5</td>\n",
       "      <td>1</td>\n",
       "      <td>289</td>\n",
       "      <td>36</td>\n",
       "      <td>13</td>\n",
       "      <td>33</td>\n",
       "      <td>239.554</td>\n",
       "      <td>...</td>\n",
       "      <td>0</td>\n",
       "      <td>1</td>\n",
       "      <td>2</td>\n",
       "      <td>1</td>\n",
       "      <td>0</td>\n",
       "      <td>1</td>\n",
       "      <td>90.0</td>\n",
       "      <td>172</td>\n",
       "      <td>30</td>\n",
       "      <td>2</td>\n",
       "    </tr>\n",
       "  </tbody>\n",
       "</table>\n",
       "<p>5 rows × 21 columns</p>\n",
       "</div>"
      ],
      "text/plain": [
       "   ID  Reason for absence  Month of absence  Day of the week  Seasons  \\\n",
       "0  11                  26                 7                3        1   \n",
       "1  36                   0                 7                3        1   \n",
       "2   3                  23                 7                4        1   \n",
       "3   7                   7                 7                5        1   \n",
       "4  11                  23                 7                5        1   \n",
       "\n",
       "   Transportation expense  Distance from Residence to Work  Service time Age  \\\n",
       "0                     289                               36            13  33   \n",
       "1                     118                               13            18  50   \n",
       "2                     179                               51            18  38   \n",
       "3                     279                                5            14  39   \n",
       "4                     289                               36            13  33   \n",
       "\n",
       "   Work load Average/day             ...              Disciplinary failure  \\\n",
       "0                 239.554            ...                                 0   \n",
       "1                 239.554            ...                                 1   \n",
       "2                 239.554            ...                                 0   \n",
       "3                 239.554            ...                                 0   \n",
       "4                 239.554            ...                                 0   \n",
       "\n",
       "   Education  Son  Social drinker  Social smoker  Pet  Weight  Height  \\\n",
       "0          1    2               1              0    1    90.0     172   \n",
       "1          1    1               1              0    0    98.0     178   \n",
       "2          1    0               1              0    0    89.0     170   \n",
       "3          1    2               1              1    0    68.0     168   \n",
       "4          1    2               1              0    1    90.0     172   \n",
       "\n",
       "   Body mass index  Absenteeism time in hours  \n",
       "0               30                          4  \n",
       "1               31                          0  \n",
       "2               31                          2  \n",
       "3               24                          4  \n",
       "4               30                          2  \n",
       "\n",
       "[5 rows x 21 columns]"
      ]
     },
     "execution_count": 14,
     "metadata": {},
     "output_type": "execute_result"
    }
   ],
   "source": [
    "data_530.head(5)"
   ]
  },
  {
   "cell_type": "code",
   "execution_count": 15,
   "metadata": {},
   "outputs": [],
   "source": [
    "# age column have junk values\n",
    "\n",
    "data_530.Age = data_530.Age.replace(\"R\", 0)\n",
    "\n",
    "data_530['Age'] =data_530['Age'].astype(str).astype('int64')\n",
    "\n",
    "# replacing rows with age 0\n",
    "#data_530.Age = data_530.Age.replace(0, int(data_530['Age'].mean()))\n",
    "\n",
    "data_530 = data_530[data_530['Age'] != 0]"
   ]
  },
  {
   "cell_type": "code",
   "execution_count": 16,
   "metadata": {},
   "outputs": [
    {
     "data": {
      "text/plain": [
       "ID                                 0\n",
       "Reason for absence                 0\n",
       "Month of absence                   0\n",
       "Day of the week                    0\n",
       "Seasons                            0\n",
       "Transportation expense             0\n",
       "Distance from Residence to Work    0\n",
       "Service time                       0\n",
       "Age                                0\n",
       "Work load Average/day              0\n",
       "Hit target                         1\n",
       "Disciplinary failure               0\n",
       "Education                          0\n",
       "Son                                0\n",
       "Social drinker                     0\n",
       "Social smoker                      0\n",
       "Pet                                0\n",
       "Weight                             2\n",
       "Height                             0\n",
       "Body mass index                    0\n",
       "Absenteeism time in hours          0\n",
       "dtype: int64"
      ]
     },
     "execution_count": 16,
     "metadata": {},
     "output_type": "execute_result"
    }
   ],
   "source": [
    "# Null values in dataset\n",
    "data_530.isnull().sum()"
   ]
  },
  {
   "cell_type": "code",
   "execution_count": 17,
   "metadata": {},
   "outputs": [],
   "source": [
    "# replace null values with respective column mean\n",
    "\n",
    "data_530 =data_530.fillna(0)"
   ]
  },
  {
   "cell_type": "code",
   "execution_count": 18,
   "metadata": {},
   "outputs": [
    {
     "data": {
      "text/html": [
       "<div>\n",
       "<style scoped>\n",
       "    .dataframe tbody tr th:only-of-type {\n",
       "        vertical-align: middle;\n",
       "    }\n",
       "\n",
       "    .dataframe tbody tr th {\n",
       "        vertical-align: top;\n",
       "    }\n",
       "\n",
       "    .dataframe thead th {\n",
       "        text-align: right;\n",
       "    }\n",
       "</style>\n",
       "<table border=\"1\" class=\"dataframe\">\n",
       "  <thead>\n",
       "    <tr style=\"text-align: right;\">\n",
       "      <th></th>\n",
       "      <th>ID</th>\n",
       "      <th>Reason for absence</th>\n",
       "      <th>Month of absence</th>\n",
       "      <th>Day of the week</th>\n",
       "      <th>Seasons</th>\n",
       "      <th>Transportation expense</th>\n",
       "      <th>Distance from Residence to Work</th>\n",
       "      <th>Service time</th>\n",
       "      <th>Age</th>\n",
       "      <th>Work load Average/day</th>\n",
       "      <th>...</th>\n",
       "      <th>Disciplinary failure</th>\n",
       "      <th>Education</th>\n",
       "      <th>Son</th>\n",
       "      <th>Social drinker</th>\n",
       "      <th>Social smoker</th>\n",
       "      <th>Pet</th>\n",
       "      <th>Weight</th>\n",
       "      <th>Height</th>\n",
       "      <th>Body mass index</th>\n",
       "      <th>Absenteeism time in hours</th>\n",
       "    </tr>\n",
       "  </thead>\n",
       "  <tbody>\n",
       "    <tr>\n",
       "      <th>count</th>\n",
       "      <td>664.000000</td>\n",
       "      <td>664.000000</td>\n",
       "      <td>664.000000</td>\n",
       "      <td>664.000000</td>\n",
       "      <td>664.000000</td>\n",
       "      <td>664.000000</td>\n",
       "      <td>664.000000</td>\n",
       "      <td>664.000000</td>\n",
       "      <td>664.000000</td>\n",
       "      <td>664.000000</td>\n",
       "      <td>...</td>\n",
       "      <td>664.000000</td>\n",
       "      <td>664.000000</td>\n",
       "      <td>664.000000</td>\n",
       "      <td>664.000000</td>\n",
       "      <td>664.000000</td>\n",
       "      <td>664.000000</td>\n",
       "      <td>664.000000</td>\n",
       "      <td>664.000000</td>\n",
       "      <td>664.000000</td>\n",
       "      <td>664.000000</td>\n",
       "    </tr>\n",
       "    <tr>\n",
       "      <th>mean</th>\n",
       "      <td>17.688253</td>\n",
       "      <td>19.459337</td>\n",
       "      <td>6.451807</td>\n",
       "      <td>3.893072</td>\n",
       "      <td>2.552711</td>\n",
       "      <td>222.650602</td>\n",
       "      <td>30.311747</td>\n",
       "      <td>12.694277</td>\n",
       "      <td>36.406627</td>\n",
       "      <td>272.605247</td>\n",
       "      <td>...</td>\n",
       "      <td>0.054217</td>\n",
       "      <td>1.246988</td>\n",
       "      <td>1.028614</td>\n",
       "      <td>0.584337</td>\n",
       "      <td>0.067771</td>\n",
       "      <td>0.686747</td>\n",
       "      <td>78.978916</td>\n",
       "      <td>171.868976</td>\n",
       "      <td>26.817771</td>\n",
       "      <td>6.756024</td>\n",
       "    </tr>\n",
       "    <tr>\n",
       "      <th>std</th>\n",
       "      <td>11.075530</td>\n",
       "      <td>8.352608</td>\n",
       "      <td>3.573081</td>\n",
       "      <td>1.425584</td>\n",
       "      <td>1.136369</td>\n",
       "      <td>66.660267</td>\n",
       "      <td>14.888751</td>\n",
       "      <td>4.355080</td>\n",
       "      <td>6.365941</td>\n",
       "      <td>42.851846</td>\n",
       "      <td>...</td>\n",
       "      <td>0.226616</td>\n",
       "      <td>0.618340</td>\n",
       "      <td>1.125903</td>\n",
       "      <td>0.493207</td>\n",
       "      <td>0.251542</td>\n",
       "      <td>1.169525</td>\n",
       "      <td>13.343456</td>\n",
       "      <td>5.938549</td>\n",
       "      <td>4.235338</td>\n",
       "      <td>12.685099</td>\n",
       "    </tr>\n",
       "    <tr>\n",
       "      <th>min</th>\n",
       "      <td>1.000000</td>\n",
       "      <td>0.000000</td>\n",
       "      <td>1.000000</td>\n",
       "      <td>2.000000</td>\n",
       "      <td>1.000000</td>\n",
       "      <td>0.000000</td>\n",
       "      <td>5.000000</td>\n",
       "      <td>1.000000</td>\n",
       "      <td>27.000000</td>\n",
       "      <td>0.000000</td>\n",
       "      <td>...</td>\n",
       "      <td>0.000000</td>\n",
       "      <td>1.000000</td>\n",
       "      <td>0.000000</td>\n",
       "      <td>0.000000</td>\n",
       "      <td>0.000000</td>\n",
       "      <td>0.000000</td>\n",
       "      <td>0.000000</td>\n",
       "      <td>163.000000</td>\n",
       "      <td>19.000000</td>\n",
       "      <td>0.000000</td>\n",
       "    </tr>\n",
       "    <tr>\n",
       "      <th>25%</th>\n",
       "      <td>7.000000</td>\n",
       "      <td>13.000000</td>\n",
       "      <td>3.000000</td>\n",
       "      <td>3.000000</td>\n",
       "      <td>2.000000</td>\n",
       "      <td>179.000000</td>\n",
       "      <td>17.000000</td>\n",
       "      <td>9.000000</td>\n",
       "      <td>31.000000</td>\n",
       "      <td>244.387000</td>\n",
       "      <td>...</td>\n",
       "      <td>0.000000</td>\n",
       "      <td>1.000000</td>\n",
       "      <td>0.000000</td>\n",
       "      <td>0.000000</td>\n",
       "      <td>0.000000</td>\n",
       "      <td>0.000000</td>\n",
       "      <td>69.000000</td>\n",
       "      <td>169.000000</td>\n",
       "      <td>24.000000</td>\n",
       "      <td>2.000000</td>\n",
       "    </tr>\n",
       "    <tr>\n",
       "      <th>50%</th>\n",
       "      <td>18.000000</td>\n",
       "      <td>23.000000</td>\n",
       "      <td>7.000000</td>\n",
       "      <td>4.000000</td>\n",
       "      <td>2.000000</td>\n",
       "      <td>225.000000</td>\n",
       "      <td>26.000000</td>\n",
       "      <td>13.000000</td>\n",
       "      <td>37.000000</td>\n",
       "      <td>264.249000</td>\n",
       "      <td>...</td>\n",
       "      <td>0.000000</td>\n",
       "      <td>1.000000</td>\n",
       "      <td>1.000000</td>\n",
       "      <td>1.000000</td>\n",
       "      <td>0.000000</td>\n",
       "      <td>0.000000</td>\n",
       "      <td>83.000000</td>\n",
       "      <td>170.000000</td>\n",
       "      <td>25.000000</td>\n",
       "      <td>3.000000</td>\n",
       "    </tr>\n",
       "    <tr>\n",
       "      <th>75%</th>\n",
       "      <td>28.000000</td>\n",
       "      <td>26.000000</td>\n",
       "      <td>10.000000</td>\n",
       "      <td>5.000000</td>\n",
       "      <td>4.000000</td>\n",
       "      <td>260.000000</td>\n",
       "      <td>50.000000</td>\n",
       "      <td>16.000000</td>\n",
       "      <td>40.000000</td>\n",
       "      <td>294.217000</td>\n",
       "      <td>...</td>\n",
       "      <td>0.000000</td>\n",
       "      <td>1.000000</td>\n",
       "      <td>2.000000</td>\n",
       "      <td>1.000000</td>\n",
       "      <td>0.000000</td>\n",
       "      <td>1.000000</td>\n",
       "      <td>89.000000</td>\n",
       "      <td>172.000000</td>\n",
       "      <td>31.000000</td>\n",
       "      <td>8.000000</td>\n",
       "    </tr>\n",
       "    <tr>\n",
       "      <th>max</th>\n",
       "      <td>36.000000</td>\n",
       "      <td>28.000000</td>\n",
       "      <td>12.000000</td>\n",
       "      <td>6.000000</td>\n",
       "      <td>4.000000</td>\n",
       "      <td>388.000000</td>\n",
       "      <td>52.000000</td>\n",
       "      <td>29.000000</td>\n",
       "      <td>58.000000</td>\n",
       "      <td>378.884000</td>\n",
       "      <td>...</td>\n",
       "      <td>1.000000</td>\n",
       "      <td>4.000000</td>\n",
       "      <td>4.000000</td>\n",
       "      <td>1.000000</td>\n",
       "      <td>1.000000</td>\n",
       "      <td>8.000000</td>\n",
       "      <td>108.000000</td>\n",
       "      <td>196.000000</td>\n",
       "      <td>38.000000</td>\n",
       "      <td>120.000000</td>\n",
       "    </tr>\n",
       "  </tbody>\n",
       "</table>\n",
       "<p>8 rows × 21 columns</p>\n",
       "</div>"
      ],
      "text/plain": [
       "               ID  Reason for absence  Month of absence  Day of the week  \\\n",
       "count  664.000000          664.000000        664.000000       664.000000   \n",
       "mean    17.688253           19.459337          6.451807         3.893072   \n",
       "std     11.075530            8.352608          3.573081         1.425584   \n",
       "min      1.000000            0.000000          1.000000         2.000000   \n",
       "25%      7.000000           13.000000          3.000000         3.000000   \n",
       "50%     18.000000           23.000000          7.000000         4.000000   \n",
       "75%     28.000000           26.000000         10.000000         5.000000   \n",
       "max     36.000000           28.000000         12.000000         6.000000   \n",
       "\n",
       "          Seasons  Transportation expense  Distance from Residence to Work  \\\n",
       "count  664.000000              664.000000                       664.000000   \n",
       "mean     2.552711              222.650602                        30.311747   \n",
       "std      1.136369               66.660267                        14.888751   \n",
       "min      1.000000                0.000000                         5.000000   \n",
       "25%      2.000000              179.000000                        17.000000   \n",
       "50%      2.000000              225.000000                        26.000000   \n",
       "75%      4.000000              260.000000                        50.000000   \n",
       "max      4.000000              388.000000                        52.000000   \n",
       "\n",
       "       Service time         Age  Work load Average/day   \\\n",
       "count    664.000000  664.000000              664.000000   \n",
       "mean      12.694277   36.406627              272.605247   \n",
       "std        4.355080    6.365941               42.851846   \n",
       "min        1.000000   27.000000                0.000000   \n",
       "25%        9.000000   31.000000              244.387000   \n",
       "50%       13.000000   37.000000              264.249000   \n",
       "75%       16.000000   40.000000              294.217000   \n",
       "max       29.000000   58.000000              378.884000   \n",
       "\n",
       "                 ...              Disciplinary failure   Education  \\\n",
       "count            ...                        664.000000  664.000000   \n",
       "mean             ...                          0.054217    1.246988   \n",
       "std              ...                          0.226616    0.618340   \n",
       "min              ...                          0.000000    1.000000   \n",
       "25%              ...                          0.000000    1.000000   \n",
       "50%              ...                          0.000000    1.000000   \n",
       "75%              ...                          0.000000    1.000000   \n",
       "max              ...                          1.000000    4.000000   \n",
       "\n",
       "              Son  Social drinker  Social smoker         Pet      Weight  \\\n",
       "count  664.000000      664.000000     664.000000  664.000000  664.000000   \n",
       "mean     1.028614        0.584337       0.067771    0.686747   78.978916   \n",
       "std      1.125903        0.493207       0.251542    1.169525   13.343456   \n",
       "min      0.000000        0.000000       0.000000    0.000000    0.000000   \n",
       "25%      0.000000        0.000000       0.000000    0.000000   69.000000   \n",
       "50%      1.000000        1.000000       0.000000    0.000000   83.000000   \n",
       "75%      2.000000        1.000000       0.000000    1.000000   89.000000   \n",
       "max      4.000000        1.000000       1.000000    8.000000  108.000000   \n",
       "\n",
       "           Height  Body mass index  Absenteeism time in hours  \n",
       "count  664.000000       664.000000                 664.000000  \n",
       "mean   171.868976        26.817771                   6.756024  \n",
       "std      5.938549         4.235338                  12.685099  \n",
       "min    163.000000        19.000000                   0.000000  \n",
       "25%    169.000000        24.000000                   2.000000  \n",
       "50%    170.000000        25.000000                   3.000000  \n",
       "75%    172.000000        31.000000                   8.000000  \n",
       "max    196.000000        38.000000                 120.000000  \n",
       "\n",
       "[8 rows x 21 columns]"
      ]
     },
     "execution_count": 18,
     "metadata": {},
     "output_type": "execute_result"
    }
   ],
   "source": [
    "#type conversion\n",
    "data_530['Age'] =data_530['Age'].astype('int64')\n",
    "\n",
    "data_530.describe()"
   ]
  },
  {
   "cell_type": "code",
   "execution_count": 19,
   "metadata": {},
   "outputs": [
    {
     "data": {
      "text/plain": [
       "ID                                 0\n",
       "Reason for absence                 0\n",
       "Month of absence                   0\n",
       "Day of the week                    0\n",
       "Seasons                            0\n",
       "Transportation expense             0\n",
       "Distance from Residence to Work    0\n",
       "Service time                       0\n",
       "Age                                0\n",
       "Work load Average/day              0\n",
       "Hit target                         0\n",
       "Disciplinary failure               0\n",
       "Education                          0\n",
       "Son                                0\n",
       "Social drinker                     0\n",
       "Social smoker                      0\n",
       "Pet                                0\n",
       "Weight                             0\n",
       "Height                             0\n",
       "Body mass index                    0\n",
       "Absenteeism time in hours          0\n",
       "dtype: int64"
      ]
     },
     "execution_count": 19,
     "metadata": {},
     "output_type": "execute_result"
    }
   ],
   "source": [
    "# cross verify for null values\n",
    "data_530.isnull().sum()"
   ]
  },
  {
   "cell_type": "code",
   "execution_count": 20,
   "metadata": {},
   "outputs": [],
   "source": [
    "# adding new column named 'followUp_req' based on whether reason for absence required follow up or not\n",
    "data_530['followUp_req'] = np.where(data_530['Reason for absence'] <= 21, 1, 0)\n",
    "\n",
    "# add categorical target column as per project requirement\n",
    "\n",
    "data_530['Absenteeism categories'] = np.where(data_530['Absenteeism time in hours'] == 0, \"Group 0\", \n",
    "                                              np.where(data_530['Absenteeism time in hours'] == 1, \"Group 1\",\n",
    "                                                      np.where(data_530['Absenteeism time in hours'] == 2, \"Group 2\",\n",
    "                                                              np.where(data_530['Absenteeism time in hours'] == 3, \"Group 3\",\n",
    "                                                                      np.where((data_530['Absenteeism time in hours'] >= 4)&(data_530['Absenteeism time in hours'] <= 7), \"Group 4\",\n",
    "                                                                               np.where(data_530['Absenteeism time in hours'] == 8, \"Group 5\",\n",
    "                                                                                       np.where(data_530['Absenteeism time in hours'] >= 9, \"Group 6\",0))\n",
    "                                                                              )))))"
   ]
  },
  {
   "cell_type": "code",
   "execution_count": 21,
   "metadata": {},
   "outputs": [
    {
     "name": "stdout",
     "output_type": "stream",
     "text": [
      "['Group 0', 'Group 1', 'Group 2', 'Group 3', 'Group 4', 'Group 5', 'Group 6']\n"
     ]
    }
   ],
   "source": [
    "# checking for Absenteeism categorie groups \n",
    "a= data_530['Absenteeism categories'].unique()\n",
    "print(sorted(a))"
   ]
  },
  {
   "cell_type": "code",
   "execution_count": 22,
   "metadata": {
    "scrolled": true
   },
   "outputs": [
    {
     "name": "stdout",
     "output_type": "stream",
     "text": [
      "<class 'pandas.core.frame.DataFrame'>\n",
      "Int64Index: 664 entries, 0 to 665\n",
      "Data columns (total 23 columns):\n",
      "ID                                 664 non-null int64\n",
      "Reason for absence                 664 non-null category\n",
      "Month of absence                   664 non-null category\n",
      "Day of the week                    664 non-null category\n",
      "Seasons                            664 non-null category\n",
      "Transportation expense             664 non-null int64\n",
      "Distance from Residence to Work    664 non-null int64\n",
      "Service time                       664 non-null int64\n",
      "Age                                664 non-null int64\n",
      "Work load Average/day              664 non-null float64\n",
      "Hit target                         664 non-null float64\n",
      "Disciplinary failure               664 non-null category\n",
      "Education                          664 non-null category\n",
      "Son                                664 non-null int64\n",
      "Social drinker                     664 non-null category\n",
      "Social smoker                      664 non-null category\n",
      "Pet                                664 non-null category\n",
      "Weight                             664 non-null float64\n",
      "Height                             664 non-null int64\n",
      "Body mass index                    664 non-null int64\n",
      "Absenteeism time in hours          664 non-null int64\n",
      "followUp_req                       664 non-null category\n",
      "Absenteeism categories             664 non-null category\n",
      "dtypes: category(11), float64(3), int64(9)\n",
      "memory usage: 78.0 KB\n"
     ]
    }
   ],
   "source": [
    "# formatting to proper data type\n",
    "data_530['Reason for absence'] = data_530['Reason for absence'].astype('category')\n",
    "data_530['Month of absence'] = data_530['Month of absence'].astype('category')\n",
    "data_530['Day of the week'] = data_530['Day of the week'].astype('category')\n",
    "data_530['Seasons'] = data_530['Seasons'].astype('category')\n",
    "data_530['Disciplinary failure'] = data_530['Disciplinary failure'].astype('category')\n",
    "data_530['Education'] = data_530['Education'].astype('category')\n",
    "data_530['Social drinker'] = data_530['Social drinker'].astype('category')\n",
    "data_530['Social smoker'] = data_530['Social smoker'].astype('category')\n",
    "data_530['Pet'] = data_530['Pet'].astype('category')\n",
    "data_530['followUp_req'] = data_530['followUp_req'].astype('category')\n",
    "data_530['Absenteeism categories'] = data_530['Absenteeism categories'].astype('category')\n",
    "data_530.info()"
   ]
  },
  {
   "cell_type": "code",
   "execution_count": 23,
   "metadata": {},
   "outputs": [
    {
     "name": "stdout",
     "output_type": "stream",
     "text": [
      "We can observe outliers in transportation expense\n"
     ]
    },
    {
     "data": {
      "text/plain": [
       "<matplotlib.axes._subplots.AxesSubplot at 0x225c9458c88>"
      ]
     },
     "execution_count": 23,
     "metadata": {},
     "output_type": "execute_result"
    },
    {
     "data": {
      "image/png": "[encoded data removed]",
      "text/plain": [
       "<Figure size 432x288 with 1 Axes>"
      ]
     },
     "metadata": {
      "needs_background": "light"
     },
     "output_type": "display_data"
    }
   ],
   "source": [
    "#observe outliers in transportation expense\n",
    "print('We can observe outliers in transportation expense')\n",
    "sns.boxplot(data_530['Transportation expense'])"
   ]
  },
  {
   "cell_type": "code",
   "execution_count": 24,
   "metadata": {},
   "outputs": [
    {
     "name": "stdout",
     "output_type": "stream",
     "text": [
      "no outliers\n"
     ]
    },
    {
     "data": {
      "image/png": "[encoded data removed]",
      "text/plain": [
       "<Figure size 432x288 with 1 Axes>"
      ]
     },
     "metadata": {
      "needs_background": "light"
     },
     "output_type": "display_data"
    }
   ],
   "source": [
    "sns.boxplot(data_530['Distance from Residence to Work'])\n",
    "print('no outliers')"
   ]
  },
  {
   "cell_type": "code",
   "execution_count": 25,
   "metadata": {},
   "outputs": [
    {
     "name": "stdout",
     "output_type": "stream",
     "text": [
      "We can observe outliers in service time variable\n"
     ]
    },
    {
     "data": {
      "image/png": "[encoded data removed]",
      "text/plain": [
       "<Figure size 432x288 with 1 Axes>"
      ]
     },
     "metadata": {
      "needs_background": "light"
     },
     "output_type": "display_data"
    }
   ],
   "source": [
    "sns.boxplot(data_530['Service time'])\n",
    "print('We can observe outliers in service time variable')"
   ]
  },
  {
   "cell_type": "code",
   "execution_count": 26,
   "metadata": {},
   "outputs": [
    {
     "data": {
      "text/plain": [
       "<matplotlib.axes._subplots.AxesSubplot at 0x225c98913c8>"
      ]
     },
     "execution_count": 26,
     "metadata": {},
     "output_type": "execute_result"
    },
    {
     "data": {
      "image/png": "[encoded data removed]",
      "text/plain": [
       "<Figure size 432x288 with 1 Axes>"
      ]
     },
     "metadata": {
      "needs_background": "light"
     },
     "output_type": "display_data"
    }
   ],
   "source": [
    "sns.boxplot(data_530['Age'])"
   ]
  },
  {
   "cell_type": "code",
   "execution_count": 27,
   "metadata": {},
   "outputs": [
    {
     "name": "stdout",
     "output_type": "stream",
     "text": [
      "We can observe outliers in Work load Average/day\n"
     ]
    },
    {
     "data": {
      "image/png": "[encoded data removed]",
      "text/plain": [
       "<Figure size 432x288 with 1 Axes>"
      ]
     },
     "metadata": {
      "needs_background": "light"
     },
     "output_type": "display_data"
    }
   ],
   "source": [
    "sns.boxplot(data_530['Work load Average/day '])\n",
    "\n",
    "print('We can observe outliers in Work load Average/day')"
   ]
  },
  {
   "cell_type": "code",
   "execution_count": 28,
   "metadata": {},
   "outputs": [
    {
     "name": "stdout",
     "output_type": "stream",
     "text": [
      "We can observe outlier in Hit target\n"
     ]
    },
    {
     "data": {
      "image/png": "[encoded data removed]",
      "text/plain": [
       "<Figure size 432x288 with 1 Axes>"
      ]
     },
     "metadata": {
      "needs_background": "light"
     },
     "output_type": "display_data"
    }
   ],
   "source": [
    "sns.boxplot(data_530['Hit target'])\n",
    "print('We can observe outlier in Hit target')"
   ]
  },
  {
   "cell_type": "code",
   "execution_count": 29,
   "metadata": {},
   "outputs": [
    {
     "data": {
      "text/plain": [
       "<matplotlib.axes._subplots.AxesSubplot at 0x225c99a0828>"
      ]
     },
     "execution_count": 29,
     "metadata": {},
     "output_type": "execute_result"
    },
    {
     "data": {
      "image/png": "[encoded data removed]",
      "text/plain": [
       "<Figure size 432x288 with 1 Axes>"
      ]
     },
     "metadata": {
      "needs_background": "light"
     },
     "output_type": "display_data"
    }
   ],
   "source": [
    "sns.boxplot(data_530['Weight'])"
   ]
  },
  {
   "cell_type": "code",
   "execution_count": 30,
   "metadata": {},
   "outputs": [
    {
     "name": "stdout",
     "output_type": "stream",
     "text": [
      "We can observe outliers in Height variable\n"
     ]
    },
    {
     "data": {
      "image/png": "[encoded data removed]",
      "text/plain": [
       "<Figure size 432x288 with 1 Axes>"
      ]
     },
     "metadata": {
      "needs_background": "light"
     },
     "output_type": "display_data"
    }
   ],
   "source": [
    "sns.boxplot(data_530['Height'])\n",
    "print('We can observe outliers in Height variable')"
   ]
  },
  {
   "cell_type": "code",
   "execution_count": 31,
   "metadata": {},
   "outputs": [
    {
     "data": {
      "text/plain": [
       "<matplotlib.axes._subplots.AxesSubplot at 0x225c9a4abe0>"
      ]
     },
     "execution_count": 31,
     "metadata": {},
     "output_type": "execute_result"
    },
    {
     "data": {
      "image/png": "[encoded data removed]",
      "text/plain": [
       "<Figure size 432x288 with 1 Axes>"
      ]
     },
     "metadata": {
      "needs_background": "light"
     },
     "output_type": "display_data"
    }
   ],
   "source": [
    "sns.boxplot(data_530['Body mass index'])"
   ]
  },
  {
   "cell_type": "code",
   "execution_count": 33,
   "metadata": {},
   "outputs": [
    {
     "name": "stdout",
     "output_type": "stream",
     "text": [
      "(664, 22)\n",
      "(664, 22)\n"
     ]
    }
   ],
   "source": [
    "# store two datasets, one for continous and other categorical\n",
    "dataset_continuous = data_530.drop('Absenteeism categories', axis=1)\n",
    "dataset_categorical = data_530.drop('Absenteeism time in hours',axis=1)\n",
    "\n",
    "print(dataset_continuous.shape)\n",
    "print(dataset_categorical.shape)"
   ]
  },
  {
   "cell_type": "code",
   "execution_count": 34,
   "metadata": {},
   "outputs": [],
   "source": [
    "# write the taining data to file\n",
    "\n",
    "dataset_continuous.to_csv('cleanDataset_continuousTarget.csv',index=False)\n",
    "dataset_categorical.to_csv('cleanDataset_categoricalTarget.csv',index=False)"
   ]
  },
  {
   "cell_type": "code",
   "execution_count": 35,
   "metadata": {},
   "outputs": [],
   "source": [
    "# get the test dataset\n",
    "test_path = 'Absenteeism_at_work_test.csv'\n",
    "mydata_test = pd.read_csv(test_path, decimal=\",\")"
   ]
  },
  {
   "cell_type": "code",
   "execution_count": 36,
   "metadata": {},
   "outputs": [],
   "source": [
    "# preprocess the test dataset\n",
    "# adding new column named 'followUp_req' based on whether reason for absence required follow up or not\n",
    "mydata_test['followUp_req'] = np.where(mydata_test['Reason for absence'] <= 21, 1, 0)\n",
    "\n",
    "# add categorical target column as per project requirement\n",
    "\n",
    "mydata_test['Absenteeism categories'] = np.where(mydata_test['Absenteeism time in hours'] == 0, \"Group 0\", \n",
    "                                              np.where(mydata_test['Absenteeism time in hours'] == 1, \"Group 1\",\n",
    "                                                      np.where(mydata_test['Absenteeism time in hours'] == 2, \"Group 2\",\n",
    "                                                              np.where(mydata_test['Absenteeism time in hours'] == 3, \"Group 3\",\n",
    "                                                                      np.where((mydata_test['Absenteeism time in hours'] >= 4)&(mydata_test['Absenteeism time in hours'] <= 7), \"Group 4\",\n",
    "                                                                               np.where(mydata_test['Absenteeism time in hours'] == 8, \"Group 5\",\n",
    "                                                                                       np.where(mydata_test['Absenteeism time in hours'] >= 9, \"Group 6\",0))\n",
    "                                                                              )))))\n",
    "\n",
    "mydata_test['Reason for absence'] = mydata_test['Reason for absence'].astype('category').cat.codes\n",
    "mydata_test['Month of absence'] = mydata_test['Month of absence'].astype('category').cat.codes\n",
    "mydata_test['Day of the week'] = mydata_test['Day of the week'].astype('category').cat.codes\n",
    "mydata_test['Seasons'] = mydata_test['Seasons'].astype('category').cat.codes\n",
    "mydata_test['Disciplinary failure'] = mydata_test['Disciplinary failure'].astype('category').cat.codes\n",
    "mydata_test['Education'] = mydata_test['Education'].astype('category').cat.codes\n",
    "mydata_test['Social drinker'] = mydata_test['Social drinker'].astype('category').cat.codes\n",
    "mydata_test['Social smoker'] = mydata_test['Social smoker'].astype('category').cat.codes\n",
    "mydata_test['Pet'] = mydata_test['Pet'].astype('category').cat.codes\n",
    "mydata_test['followUp_req'] = mydata_test['followUp_req'].astype('category').cat.codes\n",
    "mydata_test['Absenteeism categories'] = mydata_test['Absenteeism categories'].astype('category').cat.codes"
   ]
  }
 ],
 "metadata": {
  "kernelspec": {
   "display_name": "Python 3",
   "language": "python",
   "name": "python3"
  },
  "language_info": {
   "codemirror_mode": {
    "name": "ipython",
    "version": 3
   },
   "file_extension": ".py",
   "mimetype": "text/x-python",
   "name": "python",
   "nbconvert_exporter": "python",
   "pygments_lexer": "ipython3",
   "version": "3.7.0"
  }
 },
 "nbformat": 4,
 "nbformat_minor": 2
}
